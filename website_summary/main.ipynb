{
 "cells": [
  {
   "cell_type": "code",
   "execution_count": 1,
   "id": "64157022-8401-43d6-8f29-b37c449ba1b8",
   "metadata": {},
   "outputs": [],
   "source": [
    "import os\n",
    "import requests\n",
    "from dotenv import load_dotenv\n",
    "from bs4 import BeautifulSoup\n",
    "from IPython.display import Markdown, display\n",
    "from openai import OpenAI"
   ]
  },
  {
   "cell_type": "code",
   "execution_count": 2,
   "id": "5c8486e0-8a62-4b6e-aaf6-b7f81bccaa0e",
   "metadata": {},
   "outputs": [
    {
     "data": {
      "text/plain": [
       "True"
      ]
     },
     "execution_count": 2,
     "metadata": {},
     "output_type": "execute_result"
    }
   ],
   "source": [
    "load_dotenv()"
   ]
  },
  {
   "cell_type": "code",
   "execution_count": 3,
   "id": "e74c926c-f77b-41bf-b6af-70119f7ecbc6",
   "metadata": {},
   "outputs": [
    {
     "name": "stdout",
     "output_type": "stream",
     "text": [
      "api key is loaded\n"
     ]
    }
   ],
   "source": [
    "api_key = os.getenv('OPENAI_API_KEY')\n",
    "\n",
    "if not api_key:\n",
    "    print(\"api key is not loaded\")\n",
    "else:\n",
    "    print(\"api key is loaded\")"
   ]
  },
  {
   "cell_type": "code",
   "execution_count": 4,
   "id": "17b3d6b2-ecef-42e9-834f-bb8ed6666884",
   "metadata": {},
   "outputs": [],
   "source": [
    "openai = OpenAI()"
   ]
  },
  {
   "cell_type": "code",
   "execution_count": 5,
   "id": "f9ef9d66-f959-4fcc-a1c7-bdb8161755b4",
   "metadata": {},
   "outputs": [],
   "source": [
    "class Website:\n",
    "    url: str\n",
    "    title: str\n",
    "    text: str\n",
    "\n",
    "    def __init__(self, url):\n",
    "        self.url = url\n",
    "        response = requests.get(url)\n",
    "\n",
    "        soup = BeautifulSoup(response.content, 'html.parser')\n",
    "        self.title = soup.title.string if soup.title else 'No title found'\n",
    "        if soup.body:\n",
    "            for irrelevant in soup.body.find_all(['script', 'style', 'img', 'input']):\n",
    "                irrelevant.decompose()\n",
    "            self.text = soup.body.get_text(separator='\\n', strip=True)\n",
    "        else:\n",
    "            self.text = ''\n"
   ]
  },
  {
   "cell_type": "code",
   "execution_count": 6,
   "id": "60ad64be-24de-4a9b-86e8-629954d46fa8",
   "metadata": {},
   "outputs": [],
   "source": [
    "system_prompt = \"\"\"You are assistant that analyzes the contents of a website \\\n",
    "and provides a short summary, ignoring text that might be navigation related. \\\n",
    "response in markdown\n",
    "\"\"\""
   ]
  },
  {
   "cell_type": "code",
   "execution_count": 7,
   "id": "9e21fd08-e5b3-47f5-a9c3-5c213f8385d9",
   "metadata": {},
   "outputs": [],
   "source": [
    "def user_prompt_for(website):\n",
    "    user_prompt = f\"you are looking at a website title {website.title}\\n\"\n",
    "    user_prompt += f\"\"\"\n",
    "    The contents of this website is as follows\\n;\n",
    "    please provide a short summary of this website in markdown.\n",
    "    If it includes any news or announcements, then summarize these too.\n",
    "    \"\"\"\n",
    "    user_prompt += website.text\n",
    "    return user_prompt"
   ]
  },
  {
   "cell_type": "raw",
   "id": "248b56b3-9111-45da-9838-2e27f2ea5bf9",
   "metadata": {},
   "source": [
    "#Messages\n",
    "\n",
    "The api request:\n",
    "[\n",
    "    {\"role\": \"system\", \"content\": \"system message goes here\"},\n",
    "    {\"role\": \"user\", \"content\": \"user message goes here\"}\n",
    "]"
   ]
  },
  {
   "cell_type": "code",
   "execution_count": 8,
   "id": "e73ed917-207e-4d79-88eb-d2fafa6ae11f",
   "metadata": {},
   "outputs": [],
   "source": [
    "def messages_for(website):\n",
    "    return [\n",
    "        {\"role\": \"system\", \"content\": system_prompt},\n",
    "        {\"role\": \"user\", \"content\": user_prompt_for(website)}\n",
    "    ]"
   ]
  },
  {
   "cell_type": "code",
   "execution_count": 9,
   "id": "7a0c81e2-b66b-4df7-8810-449b42530132",
   "metadata": {},
   "outputs": [],
   "source": [
    "def summarize(url):\n",
    "    website = Website(url)\n",
    "    messages = messages_for(website)\n",
    "    \n",
    "    res = openai.chat.completions.create(\n",
    "        model = \"gpt-4o-mini\",\n",
    "        messages = messages_for(website)\n",
    "    )\n",
    "    return res.choices[0].message.content"
   ]
  },
  {
   "cell_type": "code",
   "execution_count": 10,
   "id": "011aa864-f06e-4145-ace4-0a492ff04212",
   "metadata": {},
   "outputs": [],
   "source": [
    "def display_summary(url):\n",
    "    summary = summarize(url)\n",
    "    display(Markdown(summary))"
   ]
  },
  {
   "cell_type": "code",
   "execution_count": 12,
   "id": "ac8be316-0c1d-49c9-b4ad-026ef29a4fb7",
   "metadata": {},
   "outputs": [
    {
     "data": {
      "text/markdown": [
       "# Stripe - Financial Infrastructure to Grow Your Revenue\n",
       "\n",
       "Stripe offers a comprehensive financial infrastructure that enables businesses to accept payments both online and in person. The platform provides a variety of products designed to manage payments, billing, and financial operations, making it easier for companies to grow their revenue. Key features include:\n",
       "\n",
       "- **Global Payments:** Supports 135+ currencies and various payment methods to optimize transaction acceptance.\n",
       "- **Billing Automation:** Tools for managing subscriptions, invoicing, and tax automation to streamline finance operations.\n",
       "- **Fraud Prevention (Radar):** AI-driven security measures to protect against fraudulent transactions.\n",
       "- **Connect:** A solution for handling multi-party payments within platforms and marketplaces.\n",
       "- **Treasury and Capital Services:** Offers financial accounts and lending options.\n",
       "\n",
       "Stripe caters to a diverse set of industries including e-commerce, SaaS, and the creator economy, providing tailored solutions to help them thrive in competitive markets.\n",
       "\n",
       "## Recent Updates & News\n",
       "- The site features an annual event, **Sessions 2025**, aimed at showcasing new products and integrations.\n",
       "- Stripe continues to innovate with significant uptime and increasing transaction volumes, demonstrating reliability and scalability.\n",
       "\n",
       "Overall, Stripe is positioned as a go-to solution for businesses looking to integrate financial services seamlessly into their operations and enhance their growth potential."
      ],
      "text/plain": [
       "<IPython.core.display.Markdown object>"
      ]
     },
     "metadata": {},
     "output_type": "display_data"
    }
   ],
   "source": [
    "display_summary('https://stripe.com/en-ca')"
   ]
  },
  {
   "cell_type": "code",
   "execution_count": null,
   "id": "3c9ce65a-37c8-4533-9b11-004cc19cf921",
   "metadata": {},
   "outputs": [],
   "source": []
  }
 ],
 "metadata": {
  "kernelspec": {
   "display_name": "Python 3 (ipykernel)",
   "language": "python",
   "name": "python3"
  },
  "language_info": {
   "codemirror_mode": {
    "name": "ipython",
    "version": 3
   },
   "file_extension": ".py",
   "mimetype": "text/x-python",
   "name": "python",
   "nbconvert_exporter": "python",
   "pygments_lexer": "ipython3",
   "version": "3.10.11"
  }
 },
 "nbformat": 4,
 "nbformat_minor": 5
}
