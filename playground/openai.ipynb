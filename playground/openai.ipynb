{
 "cells": [
  {
   "cell_type": "code",
   "execution_count": 1,
   "id": "cbf3cec2-7c22-420f-83c3-c4297b6dded9",
   "metadata": {},
   "outputs": [],
   "source": [
    "from openai import OpenAI\n",
    "from dotenv import load_dotenv\n",
    "from IPython.display import Markdown, display"
   ]
  },
  {
   "cell_type": "code",
   "execution_count": 2,
   "id": "41b6888c-25d6-4e3e-b5b6-05c0b5fe241c",
   "metadata": {},
   "outputs": [
    {
     "data": {
      "text/plain": [
       "True"
      ]
     },
     "execution_count": 2,
     "metadata": {},
     "output_type": "execute_result"
    }
   ],
   "source": [
    "load_dotenv()"
   ]
  },
  {
   "cell_type": "code",
   "execution_count": 3,
   "id": "fc337ca5-f7b8-452a-a553-135f96b8a348",
   "metadata": {},
   "outputs": [],
   "source": [
    "openai = OpenAI()\n",
    "prev_res_global = \"\""
   ]
  },
  {
   "cell_type": "code",
   "execution_count": 4,
   "id": "ee4e1a32-6f01-4b6c-a31b-72766b18171b",
   "metadata": {},
   "outputs": [],
   "source": [
    "def ai_chat(message):\n",
    "    res = openai.chat.completions.create(\n",
    "        model = \"gpt-4o-mini\",\n",
    "        messages = message\n",
    "    )\n",
    "    return res.choices[0].message.content"
   ]
  },
  {
   "cell_type": "code",
   "execution_count": 5,
   "id": "ac3eebc3-ba5a-4d25-86ab-0fe68c675e19",
   "metadata": {},
   "outputs": [],
   "source": [
    "sys_prompt = \"\"\"\n",
    "You are assistant that helps learning python programming language.\n",
    "\"\"\"\n",
    "\n",
    "def user_prompt(input):\n",
    "    user_prompt = f\"\"\"Give a beginner program and ask the user for the output \n",
    "    and see if the user input is correct.\n",
    "    The user will give you answer only looking at the program.\n",
    "    Give feedback based on user output.\n",
    "    Here is the user input: {input}\n",
    "    Return the response in markdown.\n",
    "    \"\"\"\n",
    "    return user_prompt"
   ]
  },
  {
   "cell_type": "code",
   "execution_count": null,
   "id": "a92da225-7a3a-416d-8e77-104a2ecfb4a3",
   "metadata": {},
   "outputs": [],
   "source": [
    "def get_message(user_input, prev_res=None):\n",
    "    message_obj = [\n",
    "        {\"role\": \"system\", \"content\": sys_prompt},\n",
    "        {\"role\": \"user\", \"content\": user_prompt(user_input)}\n",
    "    ]\n",
    "    if prev_res:\n",
    "        message_obj.append({\"role\": \"assistant\", \"content\": f\"prev response from ai assistant: {prev_res}\"})\n",
    "    return message_obj"
   ]
  },
  {
   "cell_type": "code",
   "execution_count": 7,
   "id": "34b83e05-34db-4d5f-8929-6636275e3185",
   "metadata": {},
   "outputs": [],
   "source": [
    "def first_message():\n",
    "    message = get_message(\"lets start...\")\n",
    "    return ai_chat(message)"
   ]
  },
  {
   "cell_type": "code",
   "execution_count": 8,
   "id": "28bb348e-4aff-4b0b-9b55-8508d2827943",
   "metadata": {},
   "outputs": [],
   "source": [
    "def format(res):\n",
    "    display(Markdown(res))"
   ]
  },
  {
   "cell_type": "code",
   "execution_count": 9,
   "id": "ceef0d89-3c56-487d-8749-940c0f0fc202",
   "metadata": {},
   "outputs": [],
   "source": [
    "def answer(input, prev_res):\n",
    "    new_message = f\"\"\"The output for this program is {input}.\n",
    "    Give another program if the answer is correct.\n",
    "    The next question should be bit difficult than the previous one.\n",
    "    \"\"\"\n",
    "    return ai_chat(get_message(new_message, prev_res))"
   ]
  },
  {
   "cell_type": "code",
   "execution_count": 10,
   "id": "b1d66b0d-2d7c-4c10-844d-a6f92cc3e993",
   "metadata": {},
   "outputs": [
    {
     "data": {
      "text/markdown": [
       "Sure! Here's a beginner Python program for you to review. Take a moment to look at the program and then I’ll ask for the output. \n",
       "\n",
       "```python\n",
       "def greet(name):\n",
       "    return \"Hello, \" + name + \"!\"\n",
       "\n",
       "user_name = input(\"Enter your name: \")\n",
       "message = greet(user_name)\n",
       "print(message)\n",
       "```\n",
       "\n",
       "### What do you think the output will be if the user inputs \"Alice\"? Please provide your answer in the format: `Your answer here`."
      ],
      "text/plain": [
       "<IPython.core.display.Markdown object>"
      ]
     },
     "metadata": {},
     "output_type": "display_data"
    }
   ],
   "source": [
    "prev_res_global = first_message()\n",
    "format(first_message())"
   ]
  },
  {
   "cell_type": "code",
   "execution_count": 11,
   "id": "63aeba6e-01f4-4ba1-8d03-8bde98558f02",
   "metadata": {},
   "outputs": [
    {
     "data": {
      "text/markdown": [
       "### Your Answer\n",
       "The output for this program is Hello, Alice!.\n",
       "\n",
       "---\n",
       "\n",
       "### Feedback\n",
       "That's correct! The program prints \"Hello, Alice!\" as expected.\n",
       "\n",
       "### Next Question\n",
       "Great job! Now, let’s try a slightly more challenging program:\n",
       "\n",
       "```python\n",
       "def calculate_area(radius):\n",
       "    import math\n",
       "    return math.pi * (radius ** 2)\n",
       "\n",
       "circle_radius = 5\n",
       "area = calculate_area(circle_radius)\n",
       "print(f\"The area of the circle is: {area:.2f}\")\n",
       "```\n",
       "\n",
       "### Question\n",
       "What will be the output of this program? Please type your answer below."
      ],
      "text/plain": [
       "<IPython.core.display.Markdown object>"
      ]
     },
     "metadata": {},
     "output_type": "display_data"
    }
   ],
   "source": [
    "prev_res_global = answer(\"Hello, Alice!\", prev_res_global)\n",
    "format(prev_res_global)"
   ]
  },
  {
   "cell_type": "code",
   "execution_count": 12,
   "id": "e9694358-dd4a-4ba7-a83f-d81fe061573d",
   "metadata": {},
   "outputs": [
    {
     "data": {
      "text/markdown": [
       "### Your Answer\n",
       "The output for this program is The area of the circle is: 78.54.\n",
       "\n",
       "---\n",
       "\n",
       "### Feedback\n",
       "That's correct! The area of a circle with a radius of 5 is indeed approximately 78.54 when formatted to two decimal places.\n",
       "\n",
       "### Next Question\n",
       "Well done! Let's try something a bit more challenging:\n",
       "\n",
       "```python\n",
       "def factorial(n):\n",
       "    if n == 0 or n == 1:\n",
       "        return 1\n",
       "    else:\n",
       "        return n * factorial(n - 1)\n",
       "\n",
       "number = 5\n",
       "result = factorial(number)\n",
       "print(f\"The factorial of {number} is: {result}\")\n",
       "```\n",
       "\n",
       "### Question\n",
       "What will be the output of this program? Please type your answer below."
      ],
      "text/plain": [
       "<IPython.core.display.Markdown object>"
      ]
     },
     "metadata": {},
     "output_type": "display_data"
    }
   ],
   "source": [
    "prev_res_global = answer(\"The area of the circle is: 78.54\", prev_res_global)\n",
    "format(prev_res_global)"
   ]
  },
  {
   "cell_type": "code",
   "execution_count": 13,
   "id": "19b4dc32-6cb4-43a3-a576-69fa9a11954a",
   "metadata": {},
   "outputs": [
    {
     "data": {
      "text/markdown": [
       "### Your Answer\n",
       "The output for this program is The factorial of 5 is: 120.\n",
       "\n",
       "---\n",
       "\n",
       "### Feedback\n",
       "That's correct! The factorial of 5 is indeed 120.\n",
       "\n",
       "### Next Question\n",
       "Great job! Now let's try something a bit more complex:\n",
       "\n",
       "```python\n",
       "def count_vowels(s):\n",
       "    vowels = 'aeiouAEIOU'\n",
       "    count = 0\n",
       "    for char in s:\n",
       "        if char in vowels:\n",
       "            count += 1\n",
       "    return count\n",
       "\n",
       "input_string = \"Hello, World!\"\n",
       "vowel_count = count_vowels(input_string)\n",
       "print(f\"The number of vowels in the string is: {vowel_count}\")\n",
       "```\n",
       "\n",
       "### Question\n",
       "What will be the output of this program? Please type your answer below."
      ],
      "text/plain": [
       "<IPython.core.display.Markdown object>"
      ]
     },
     "metadata": {},
     "output_type": "display_data"
    }
   ],
   "source": [
    "prev_res_global = answer(\"The factorial of 5 is: 120\", prev_res_global)\n",
    "format(prev_res_global)"
   ]
  },
  {
   "cell_type": "code",
   "execution_count": null,
   "id": "946d68d6-ab63-41d7-9c8e-6f36d4eb9d3e",
   "metadata": {},
   "outputs": [],
   "source": []
  }
 ],
 "metadata": {
  "kernelspec": {
   "display_name": "Python 3 (ipykernel)",
   "language": "python",
   "name": "python3"
  },
  "language_info": {
   "codemirror_mode": {
    "name": "ipython",
    "version": 3
   },
   "file_extension": ".py",
   "mimetype": "text/x-python",
   "name": "python",
   "nbconvert_exporter": "python",
   "pygments_lexer": "ipython3",
   "version": "3.10.11"
  }
 },
 "nbformat": 4,
 "nbformat_minor": 5
}
