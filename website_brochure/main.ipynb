{
 "cells": [
  {
   "cell_type": "code",
   "execution_count": 1,
   "id": "c76b8b39",
   "metadata": {},
   "outputs": [],
   "source": [
    "import os\n",
    "import json\n",
    "import requests\n",
    "from typing import List\n",
    "from dotenv import load_dotenv\n",
    "from bs4 import BeautifulSoup\n",
    "from IPython.display import Markdown, display, update_display\n",
    "from openai import OpenAI"
   ]
  },
  {
   "cell_type": "code",
   "execution_count": 2,
   "id": "2a691b74-bc1e-4553-be9a-73afedc8746a",
   "metadata": {
    "scrolled": true
   },
   "outputs": [
    {
     "name": "stdout",
     "output_type": "stream",
     "text": [
      "API key loaded\n"
     ]
    }
   ],
   "source": [
    "load_dotenv()\n",
    "api_key = os.getenv('OPENAI_API_KEY')\n",
    "\n",
    "if api_key:\n",
    "    print('API key loaded')\n",
    "else:\n",
    "    print('API key loading issue')\n",
    "\n",
    "MODEL = 'gpt-4o-mini'\n",
    "openai = OpenAI()"
   ]
  },
  {
   "cell_type": "code",
   "execution_count": 3,
   "id": "f9135562-5d2c-4295-af73-04b3038cd3fe",
   "metadata": {},
   "outputs": [],
   "source": [
    "class Website:\n",
    "    url: str\n",
    "    title: str\n",
    "    body: str\n",
    "    links: List[str]\n",
    "    text: str\n",
    "\n",
    "    def __init__(self, url):\n",
    "        self.url = url\n",
    "        response = requests.get(url)\n",
    "        self.body = response.content\n",
    "        soup = BeautifulSoup(self.body, \"html.parser\")\n",
    "        self.title = soup.title.string if soup.title else \"No title found\"\n",
    "        if soup.body:\n",
    "            for irrelevant in soup.body([\"script\", \"style\", \"img\", \"input\"]):\n",
    "                irrelevant.decompose()\n",
    "            self.text = soup.body.get_text(separator='\\n', strip=True)\n",
    "        else:\n",
    "            self.text = \"\"\n",
    "        links = [link.get(\"href\") for link in soup.find_all(\"a\")]\n",
    "        self.links = [link for link in links if link]\n",
    "\n",
    "    def get_contents(self):\n",
    "        return f\"Webpage title:\\n{self.title}\\nWebpage contents:\\n{self.text}\\n\""
   ]
  },
  {
   "cell_type": "code",
   "execution_count": 4,
   "id": "400ba845-80ed-487d-8a42-c0bed089d849",
   "metadata": {},
   "outputs": [],
   "source": [
    "links_sys_prompt = \"\"\"\n",
    "You are provided with a list of links found on a webpage.\n",
    "You are able to decide which one to to pick from the list to be most relevent to include in a brouchure about the company,\n",
    "such as links to an About page or a company page or careers/jobs page.\\n\n",
    "\n",
    "You should response in JSON as in this example:\n",
    "{\n",
    "    \"links\": [\n",
    "        {\"type\": \"about page\", \"url\": \"https://full.url.link/about\"},\n",
    "        {\"type\": \"careers page\", \"url\": \"https://another.ful.url/careers\"}\n",
    "    ]\n",
    "}\n",
    "\"\"\"\n"
   ]
  },
  {
   "cell_type": "code",
   "execution_count": 5,
   "id": "6954460f-c975-4a73-94b2-4b904be533b3",
   "metadata": {},
   "outputs": [],
   "source": [
    "def get_links_user_prompt(website):\n",
    "    user_prompt = f\"\"\"\n",
    "    Here is the list of links on the website of {website.url} - \n",
    "    please decide which of these are relevent web links for a brochure about the company, response with the full https url \\n\n",
    "    Do not include Terms of Service, Privacy, email links\\n\n",
    "    Here are the links: {website.links}\n",
    "    \"\"\"\n",
    "\n",
    "    return user_prompt"
   ]
  },
  {
   "cell_type": "code",
   "execution_count": 6,
   "id": "62e55589-73e4-4ec3-9c6a-9e9f636d5d82",
   "metadata": {},
   "outputs": [],
   "source": [
    "def get_links(url):\n",
    "    w = Website(url)\n",
    "    completion = openai.chat.completions.create(\n",
    "        model=MODEL,\n",
    "        messages=[\n",
    "            {\"role\": \"system\", \"content\": links_sys_prompt},\n",
    "            {\"role\": \"user\", \"content\": get_links_user_prompt(w)}\n",
    "        ],\n",
    "        response_format={\"type\":\"json_object\"}\n",
    "    )\n",
    "    result = completion.choices[0].message.content\n",
    "    return json.loads(result)"
   ]
  },
  {
   "cell_type": "code",
   "execution_count": 7,
   "id": "68828884-3816-4f2d-b75c-1208975d7cf5",
   "metadata": {},
   "outputs": [],
   "source": [
    "def get_all_details(url):\n",
    "    result = \"Landing page:\\n\"\n",
    "    result += Website(url).get_contents()\n",
    "    links = get_links(url)\n",
    "    print(\"Links: \", links)\n",
    "    for link in links[\"links\"]:\n",
    "        result += f\"\\n{link['type']}\\n\"\n",
    "        result += Website(link[\"url\"]).get_contents()\n",
    "    return result"
   ]
  },
  {
   "cell_type": "code",
   "execution_count": 8,
   "id": "48e4db84-a747-4a7b-be0b-54198da8c0ca",
   "metadata": {},
   "outputs": [],
   "source": [
    "sys_prompt = \"\"\"\n",
    "You are an assistant that analyzes the contents of several relevant pages from a company website and create a short \\\n",
    "brochure about the company for prospective customers, investors and recruits. Respond in Markdown.\n",
    "Include details of company culture, customers and careers/jobs if you have information.\n",
    "\"\"\""
   ]
  },
  {
   "cell_type": "code",
   "execution_count": 9,
   "id": "63a28eea-8b80-4fce-963a-aa187bad9de6",
   "metadata": {},
   "outputs": [],
   "source": [
    "def get_brochure_user_prompt(company_name, url):\n",
    "    user_prompt = f\"\"\"\n",
    "    You are looking at a company called: {company_name}\\n\n",
    "    Here are the contents of its landing page and other relevent pages; use this information to build a short \\\n",
    "    brochure of the company.\n",
    "    {get_all_details(url)}\n",
    "    \"\"\"\n",
    "    user_prompt = user_prompt[:20_000]\n",
    "    return user_prompt"
   ]
  },
  {
   "cell_type": "code",
   "execution_count": 10,
   "id": "83a0772e-8e7e-4cb1-b074-e74e72c4ee58",
   "metadata": {},
   "outputs": [],
   "source": [
    "def create_brochure(company_name, url):\n",
    "    stream = openai.chat.completions.create(\n",
    "        model=MODEL,\n",
    "        messages=[\n",
    "            {\"role\": \"system\", \"content\": sys_prompt},\n",
    "            {\"role\": \"user\", \"content\": get_brochure_user_prompt(company_name, url)}\n",
    "        ],\n",
    "        stream=True\n",
    "    )\n",
    "    # result = response.choices[0].message.content\n",
    "    # display(Markdown(result))\n",
    "\n",
    "    response = \"\"\n",
    "    display_handle = display(Markdown(\"\"), display_id=True)\n",
    "    for chunk in stream:\n",
    "        response += chunk.choices[0].delta.content or ''\n",
    "        response = response.replace(\"```\", \"\").replace(\"markdown\", \"\")\n",
    "        update_display(Markdown(response), display_id=display_handle.display_id)"
   ]
  },
  {
   "cell_type": "code",
   "execution_count": 11,
   "id": "bdf98cee-51d0-4c4a-a0ca-1ea55b71306b",
   "metadata": {},
   "outputs": [
    {
     "name": "stdout",
     "output_type": "stream",
     "text": [
      "Links:  {'links': [{'type': 'about page', 'url': 'https://gemini.google/about/'}, {'type': 'overview page', 'url': 'https://gemini.google/overview/'}, {'type': 'our approach page', 'url': 'https://gemini.google/our-approach/'}, {'type': 'latest news page', 'url': 'https://gemini.google/latest-news/'}, {'type': 'careers page', 'url': 'https://www.google.com'}]}\n"
     ]
    },
    {
     "data": {
      "text/markdown": [
       "# Welcome to Google Gemini\n",
       "\n",
       "### Your Everyday AI Assistant\n",
       "\n",
       "Google Gemini is an innovative AI assistant designed to enhance your browsing experience and streamline your daily tasks. Whether you're a student, a professional, or a curious thinker, Gemini is here to help you make informed choices, learn complex topics, and effortlessly engage with content.\n",
       "\n",
       "---\n",
       "\n",
       "### What Can Gemini Do?\n",
       "\n",
       "#### **AI Assistance in Chrome**\n",
       "- **Concise Summaries**: Get instant key takeaways from articles, threads, or pages.\n",
       "- **Curiosity Driven**: Ask questions directly relevant to your open tabs for tailored responses.\n",
       "- **Deep Research**: Dive into extensive topics and gain a comprehensive understanding without switching tabs.\n",
       "\n",
       "#### **Gemini Live**\n",
       "- **Interactive Brainstorming**: Talk through ideas and receive spoken responses.\n",
       "- **Multi-App Integration**: Utilize Gemini across Google apps like Gmail, Calendar, and Maps.\n",
       "\n",
       "#### **Creative Tools**\n",
       "- **Image & Video Generation**: Create stunning visuals and video content with just a prompt using our advanced models.\n",
       "- **Personalized Learning**: Develop custom study plans, quizzes, and more with your personal AI collaborator.\n",
       "\n",
       "#### **Custom Experts with Gems**\n",
       "- Build your unique AI experts tailored to help you tackle specific tasks or areas of interest, whether it’s career coaching, brainstorming, or coding help.\n",
       "\n",
       "---\n",
       "\n",
       "### Who Is Our Customer?\n",
       "\n",
       "Gemini caters to a diverse audience:\n",
       "- **Students** looking for study assistance and insightful learning tools.\n",
       "- **Professionals** seeking to enhance productivity and engagement with data.\n",
       "- **Creative Individuals** who need a quick way to generate ideas and concepts.\n",
       "- **Curious Minds** eager to explore new topics with clarity.\n",
       "\n",
       "---\n",
       "\n",
       "### Company Culture\n",
       "\n",
       "At Google Gemini, we thrive in an atmosphere of creativity and innovation. Our mission is to empower our users by putting AI assistance at their fingertips—intuitive, smart, and respectful of user control and privacy. We believe in fostering an inclusive workplace that values diverse perspectives, encourages collaboration, and supports continuous learning and growth.\n",
       "\n",
       "---\n",
       "\n",
       "### Join the Gemini Team\n",
       "\n",
       "We are always seeking passionate individuals who share our vision of revolutionizing the way people interact with technology. Here at Google Gemini, you will have the opportunity to innovate, collaborate, and grow in an environment that supports your professional development and respects your work-life balance.\n",
       "\n",
       "**Explore Careers**: Join us in making AI accessible and empowering for everyone.\n",
       "\n",
       "---\n",
       "\n",
       "### Connect with Us\n",
       "Stay updated with the latest features, enhancements, and community insights:\n",
       "- **Social Media**: Follow us on Instagram, YouTube, X (Twitter), and Discord!\n",
       "- **Support**: We offer dedicated support and community engagement to enhance your experience with Gemini.\n",
       "\n",
       "---\n",
       "\n",
       "**Discover Gemini Today!**\n",
       "\n",
       "Ready to transform your online experience? Head over to [gemini.google.com](https://gemini.google.com) to start exploring the future of AI-assisted browsing. Try it free or explore our subscription options for enhanced features!\n",
       "\n",
       "---\n",
       "\n",
       "> **Gemini: Intelligence that works with you, right where you are!**"
      ],
      "text/plain": [
       "<IPython.core.display.Markdown object>"
      ]
     },
     "metadata": {},
     "output_type": "display_data"
    }
   ],
   "source": [
    "create_brochure(\"Google Gemini\",\"https://gemini.google/overview/gemini-in-chrome/\")"
   ]
  },
  {
   "cell_type": "code",
   "execution_count": null,
   "id": "2f5431b5-d891-42b5-8f8d-0a225c435533",
   "metadata": {},
   "outputs": [],
   "source": []
  }
 ],
 "metadata": {
  "kernelspec": {
   "display_name": "Python 3 (ipykernel)",
   "language": "python",
   "name": "python3"
  },
  "language_info": {
   "codemirror_mode": {
    "name": "ipython",
    "version": 3
   },
   "file_extension": ".py",
   "mimetype": "text/x-python",
   "name": "python",
   "nbconvert_exporter": "python",
   "pygments_lexer": "ipython3",
   "version": "3.10.11"
  }
 },
 "nbformat": 4,
 "nbformat_minor": 5
}
