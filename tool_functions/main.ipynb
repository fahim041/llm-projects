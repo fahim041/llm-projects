{
 "cells": [
  {
   "cell_type": "code",
   "execution_count": 1,
   "id": "2639677b-6150-462e-bf04-a1c2aaf0fb7e",
   "metadata": {},
   "outputs": [],
   "source": [
    "import os\n",
    "import json\n",
    "from dotenv import load_dotenv\n",
    "from openai import OpenAI\n",
    "import gradio as gr"
   ]
  },
  {
   "cell_type": "code",
   "execution_count": 2,
   "id": "514b3637-616b-42f8-8818-4dc90ac57a70",
   "metadata": {},
   "outputs": [
    {
     "name": "stdout",
     "output_type": "stream",
     "text": [
      "API key loaded\n"
     ]
    }
   ],
   "source": [
    "load_dotenv()\n",
    "api_key = os.getenv('OPENAI_API_KEY')\n",
    "\n",
    "if api_key:\n",
    "    print('API key loaded')\n",
    "else:\n",
    "    print('API key loading issue')\n",
    "\n",
    "MODEL = 'gpt-4o-mini'\n",
    "openai = OpenAI()"
   ]
  },
  {
   "cell_type": "code",
   "execution_count": 7,
   "id": "9375451e-80b6-4792-81d0-a0cf5db2f8f2",
   "metadata": {},
   "outputs": [],
   "source": [
    "system_prompt = \"\"\"\n",
    "You are a helpful assistant for an Airline called FlightAI.\n",
    "Give short, courteous answers, no more than 1 sentence.\n",
    "Always be accurate, If you don't know the answer, say so.\n",
    "\"\"\""
   ]
  },
  {
   "cell_type": "code",
   "execution_count": 18,
   "id": "6bf5b6b6-5166-4373-8985-4ba8881c6693",
   "metadata": {},
   "outputs": [],
   "source": [
    "# checking without tool response\n",
    "\n",
    "# def chat(message, history):\n",
    "#     messages = [{\"role\": \"system\", \"content\": system_prompt}] + history\n",
    "#     messages.append({\"role\": \"user\", \"content\": message})\n",
    "\n",
    "#     stream = openai.chat.completions.create(\n",
    "#         model=MODEL,\n",
    "#         messages=messages,\n",
    "#         stream=True\n",
    "#     )\n",
    "\n",
    "#     response = \"\"\n",
    "#     for chunk in stream:\n",
    "#         response += chunk.choices[0].delta.content or \"\"\n",
    "#         yield {\n",
    "#             \"role\": \"assistant\",\n",
    "#             \"content\": response,\n",
    "#             \"messages\": history + [\n",
    "#                 {\"role\": \"user\", \"content\": message},\n",
    "#                 {\"role\": \"assistant\", \"content\": response}\n",
    "#             ]\n",
    "#         }"
   ]
  },
  {
   "cell_type": "code",
   "execution_count": 19,
   "id": "f1aab8ac-3fb4-4461-89e6-cb8c150489f8",
   "metadata": {},
   "outputs": [],
   "source": [
    "# Test without ticket price tool function\n",
    "\n",
    "# gr.ChatInterface(\n",
    "#     fn=chat,\n",
    "#     chatbot=gr.Chatbot(type=\"messages\"),\n",
    "#     type=\"messages\"\n",
    "# ).launch(share=False)"
   ]
  },
  {
   "cell_type": "markdown",
   "id": "7d630d91-6a68-484c-b277-6aa21b71f97a",
   "metadata": {},
   "source": [
    "# Tools"
   ]
  },
  {
   "cell_type": "code",
   "execution_count": 28,
   "id": "754583d7-3f4c-4636-b2e3-ecca53d916dc",
   "metadata": {},
   "outputs": [],
   "source": [
    "ticket_prices = {\"london\": \"$799\", \"paris\": \"$899\", \"berlin\": \"$499\"}\n",
    "\n",
    "def get_ticket_price(destination_city):\n",
    "    city = destination_city.lower()\n",
    "    return ticket_prices.get(city, \"Unknown\")"
   ]
  },
  {
   "cell_type": "code",
   "execution_count": 29,
   "id": "8fa1e9de-8483-4f50-9a4c-bca6477cc239",
   "metadata": {},
   "outputs": [
    {
     "data": {
      "text/plain": [
       "'$899'"
      ]
     },
     "execution_count": 29,
     "metadata": {},
     "output_type": "execute_result"
    }
   ],
   "source": [
    "get_ticket_price(\"Paris\")"
   ]
  },
  {
   "cell_type": "code",
   "execution_count": 30,
   "id": "65224bd7-890d-479c-bb9b-f00818ebb7fe",
   "metadata": {},
   "outputs": [],
   "source": [
    "price_function = {\n",
    "    \"name\": \"get_ticket_price\",\n",
    "    \"description\": \"Get the price of a return ticket to the destination city. Call this whenever you need to know the ticket price, for example when a customer asks 'How much is a ticket to this city'\",\n",
    "    \"parameters\": {\n",
    "        \"type\": \"object\",\n",
    "        \"properties\": {\n",
    "            \"destination_city\": {\n",
    "                \"type\": \"string\",\n",
    "                \"description\": \"The city that the customer wants to travel to\",\n",
    "            },\n",
    "        },\n",
    "        \"required\": [\"destination_city\"],\n",
    "        \"additionalProperties\": False\n",
    "    }\n",
    "}"
   ]
  },
  {
   "cell_type": "code",
   "execution_count": 31,
   "id": "f9574eb8-ca62-4444-8eb1-62019c3b1f7a",
   "metadata": {},
   "outputs": [],
   "source": [
    "tools = [{\"type\": \"function\", \"function\": price_function}]"
   ]
  },
  {
   "cell_type": "code",
   "execution_count": 46,
   "id": "04875ba0-fea4-4e69-aebb-20d4021bc1e9",
   "metadata": {},
   "outputs": [],
   "source": [
    "def chat(message, history):\n",
    "    messages = [{\"role\": \"system\", \"content\": system_prompt}] + history\n",
    "    messages.append({\"role\": \"user\", \"content\": message})\n",
    "\n",
    "    response = openai.chat.completions.create(\n",
    "        model=MODEL,\n",
    "        messages=messages,\n",
    "        tools=tools\n",
    "    )\n",
    "\n",
    "    if response.choices[0].finish_reason == \"tool_calls\":\n",
    "        message = response.choices[0].message\n",
    "        response, city = handle_tool_call(message)\n",
    "        messages.append(message)\n",
    "        messages.append(response)\n",
    "        response = openai.chat.completions.create(model=MODEL, messages=messages)\n",
    "\n",
    "    # Ensure response is not None\n",
    "    if response and response.choices:\n",
    "        return response.choices[0].message.content\n",
    "    else:\n",
    "        return {\"role\": \"assistant\", \"content\": \"I'm sorry, I couldn't process your request.\"}"
   ]
  },
  {
   "cell_type": "code",
   "execution_count": 47,
   "id": "844726bb-336c-4a87-86eb-9c032439877f",
   "metadata": {},
   "outputs": [],
   "source": [
    "def handle_tool_call(message):\n",
    "    tool_call = message.tool_calls[0]\n",
    "    arguments = json.loads(tool_call.function.arguments)\n",
    "    city = arguments.get('destination_city')\n",
    "    price = get_ticket_price(city)\n",
    "    response = {\n",
    "        \"role\": \"tool\",\n",
    "        \"content\": json.dumps({\"destination_city\": city,\"price\": price}),\n",
    "        \"tool_call_id\": tool_call.id\n",
    "    }\n",
    "    return response, city"
   ]
  },
  {
   "cell_type": "code",
   "execution_count": 49,
   "id": "97060ce1-6f2f-401f-a03b-cb3f7a9c6830",
   "metadata": {},
   "outputs": [],
   "source": [
    "# gr.ChatInterface(\n",
    "#     fn=chat,\n",
    "#     chatbot=gr.Chatbot(type=\"messages\"),\n",
    "#     type=\"messages\"\n",
    "# ).launch(share=False)"
   ]
  },
  {
   "cell_type": "code",
   "execution_count": null,
   "id": "1b6d632e-9099-4fde-aee6-d1e816ff62d6",
   "metadata": {},
   "outputs": [],
   "source": []
  }
 ],
 "metadata": {
  "kernelspec": {
   "display_name": "Python 3 (ipykernel)",
   "language": "python",
   "name": "python3"
  },
  "language_info": {
   "codemirror_mode": {
    "name": "ipython",
    "version": 3
   },
   "file_extension": ".py",
   "mimetype": "text/x-python",
   "name": "python",
   "nbconvert_exporter": "python",
   "pygments_lexer": "ipython3",
   "version": "3.10.11"
  }
 },
 "nbformat": 4,
 "nbformat_minor": 5
}
