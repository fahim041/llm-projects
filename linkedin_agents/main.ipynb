{
 "cells": [
  {
   "cell_type": "code",
   "execution_count": 1,
   "id": "23c28c9d-8fe6-477a-ae0a-8850e00a129f",
   "metadata": {},
   "outputs": [],
   "source": [
    "import os\n",
    "from dotenv import load_dotenv\n",
    "from langchain_core.prompts import PromptTemplate\n",
    "from langchain_openai import ChatOpenAI\n",
    "from langchain_core.tools import Tool\n",
    "from langchain.agents import create_react_agent, AgentExecutor\n",
    "from langchain import hub\n",
    "from langchain_community.tools.tavily_search import TavilySearchResults"
   ]
  },
  {
   "cell_type": "code",
   "execution_count": 2,
   "id": "22e32ab2-198a-4e00-9ee8-792f8b0d3619",
   "metadata": {},
   "outputs": [
    {
     "name": "stdout",
     "output_type": "stream",
     "text": [
      "api key is loaded\n"
     ]
    }
   ],
   "source": [
    "load_dotenv()\n",
    "\n",
    "api_key = os.getenv('OPENAI_API_KEY')\n",
    "tavily_api_ley = os.getenv('TAVILY_API_KEY')\n",
    "\n",
    "if not api_key or not tavily_api_ley:\n",
    "    print(\"api key is not loaded\")\n",
    "else:\n",
    "    print(\"api key is loaded\")"
   ]
  },
  {
   "cell_type": "code",
   "execution_count": 3,
   "id": "00362382-18d5-4990-a3f2-215d934ffced",
   "metadata": {},
   "outputs": [],
   "source": [
    "def get_profile_info(name: str):\n",
    "    search = TavilySearchResults()\n",
    "    res = search.run(f\"{name}\")\n",
    "    return res"
   ]
  },
  {
   "cell_type": "code",
   "execution_count": 4,
   "id": "86d7a9ef-2597-4a33-8253-ece59bc8cb2e",
   "metadata": {},
   "outputs": [],
   "source": [
    "def linkedin_lookup_agent(name: str) -> str:\n",
    "    llm = ChatOpenAI(\n",
    "        model_name=\"gpt-4o-mini\",\n",
    "        temperature=0\n",
    "    )\n",
    "\n",
    "    template = \"\"\"\n",
    "        given the full name {name_of_person} I want you to get it me a link to their Linkedin profile page. \n",
    "        Your answer should contain only a url\n",
    "    \"\"\"\n",
    "\n",
    "    prompt_template = PromptTemplate(\n",
    "        template=template,\n",
    "        input_variables=[\"name_of_person\"]\n",
    "    )\n",
    "\n",
    "    tools_of_agent = [\n",
    "        Tool(\n",
    "            name=\"Crawl Google for Linkedin profile page\",\n",
    "            func=get_profile_info,\n",
    "            description=\"It is useful when you need to get the Linkedin page url\"\n",
    "        )\n",
    "    ]\n",
    "\n",
    "    react_prompt = hub.pull(\"hwchase17/react\")\n",
    "    agent = create_react_agent(\n",
    "        llm=llm,\n",
    "        tools=tools_of_agent,\n",
    "        prompt=react_prompt\n",
    "    )\n",
    "    agent_executor = AgentExecutor(\n",
    "        agent=agent,\n",
    "        tools=tools_of_agent,\n",
    "        verbose=True\n",
    "    )\n",
    "\n",
    "    result = agent_executor.invoke(\n",
    "        input={\"input\": prompt_template.format_prompt(name_of_person=name)}\n",
    "    )\n",
    "\n",
    "    return result[\"output\"]"
   ]
  },
  {
   "cell_type": "code",
   "execution_count": 5,
   "id": "858b53e2-7cf2-4eb3-8993-94296b2f5df2",
   "metadata": {},
   "outputs": [],
   "source": [
    "def get_info_of_a_person(name: str):\n",
    "    linkedin_url = linkedin_lookup_agent(name=name)\n",
    "\n",
    "    summary_template = \"\"\"\n",
    "        given the information {information} about a person I want you to provide, \n",
    "        if you can't access external sites, added the widely known information:\n",
    "        1. A short summary\n",
    "        2. Two interesting facts about them\n",
    "    \"\"\"\n",
    "\n",
    "    summary_prompt_template = PromptTemplate(\n",
    "        input_variables=[\"information\"],\n",
    "        template=summary_template\n",
    "    )\n",
    "    \n",
    "    llm = ChatOpenAI(model=\"gpt-4o-mini\", temperature=0)\n",
    "    chain = summary_prompt_template | llm\n",
    "    res = chain.invoke(input={\"information\": linkedin_url})\n",
    "    print(res.content)\n",
    "    "
   ]
  },
  {
   "cell_type": "code",
   "execution_count": 6,
   "id": "b89ea552-61e6-4fee-92a0-87ebeb169a68",
   "metadata": {},
   "outputs": [
    {
     "name": "stderr",
     "output_type": "stream",
     "text": [
      "C:\\Users\\FahimAlSami\\Documents\\llm\\venv\\Lib\\site-packages\\langsmith\\client.py:253: LangSmithMissingAPIKeyWarning: API key must be provided when using hosted LangSmith API\n",
      "  warnings.warn(\n"
     ]
    },
    {
     "name": "stdout",
     "output_type": "stream",
     "text": [
      "\n",
      "\n",
      "\u001b[1m> Entering new AgentExecutor chain...\u001b[0m\n",
      "\u001b[32;1m\u001b[1;3mI need to find the LinkedIn profile page for Bill Gates, who is associated with Microsoft. To do this, I will perform a search on Google to locate his LinkedIn profile.  \n",
      "Action: Crawl Google for Linkedin profile page  \n",
      "\u001b[36;1m\u001b[1;3m[{'url': 'https://www.bfsinvest.com/bill-gates-and-the-story-of-microsoft', 'content': 'Bill Gates and the Story of Microsoft Bill Gates and the Story of Microsoft It is intended to help the reader grasp the ways in which Bill Gates and the company he cofounded, Microsoft, have changed the modern world. In 1975, Gates and Allen moved to Albuquerque and created a partnership called Micro-Soft (later renamed Microsoft) at the suggestion of Allen, as the company was working on microcomputer software instead of mainframes. Microsoft received only $430,000 from IBM — far less than IBM had expected to pay — but Gates and Allen gained the rights to sell QDOS, now called MS-DOS, to other manufacturing companies. In 1987, when Gates was 32 years old, he met Melinda French, who was working at Microsoft.'}, {'url': 'https://news.microsoft.com/tag/bill-gates/', 'content': 'Microsoft Microsoft On The Issues All Microsoft Microsoft 365 Microsoft Teams Microsoft Edge Microsoft Cloud Microsoft Security Microsoft 365 for business Microsoft Industry Microsoft Developer Microsoft Learn Microsoft Rewards One world finalist team in Microsoft’s global student technology competition will be chosen for a private meeting to share their dreams with Microsoft’s co-founder. Bill Gates: 2013 Microsoft Research Faculty Summit Microsoft Chairman Bill Gates shares his thoughts on computing’s impact on society, and fields questions from the audience at the 2013 Microsoft Research Faculty Summit. Microsoft Copilot Microsoft Store Microsoft Store support Microsoft in education Microsoft Teams for Education Microsoft 365 Education Microsoft Cloud Microsoft Security Microsoft 365 Microsoft Teams Microsoft 365 Copilot Microsoft Developer Microsoft Learn About Microsoft Privacy at Microsoft Contact Microsoft © Microsoft 2025'}, {'url': 'https://www.gatesnotes.com/meet-bill/microsoft', 'content': 'My time and career at Microsoft | Bill Gates My time and career at Microsoft | Bill Gates Bill Gates shares the story of Microsoft\\'s origins and a company timeline, from his unique perspective co-founding the personal computing giant with Paul Allen. Bill Gates, Bill Gates at Microsoft, Bill Gates career, Microsoft origins, Bill Gates timeline, co-founder Microsoft, PC revolution, Microsoft history, Paul Allen Log in or sign up to comment Become an Insider Log In or Sign Up Become an Insider Log In or Sign Up I\\'m sorry that email and password combination are invalid, click here to reset your password. By clicking \"Sign Up\" you agree to the Gates Notes Terms of Use and Privacy Policy. /meet-bill/microsoft'}, {'url': 'https://en.wikipedia.org/wiki/Bill_Gates', 'content': 'During Microsoft\\'s early years, Gates was an active software developer, particularly in the company\\'s programming language products, but his primary role in most of the company\\'s history was as a manager and executive. He has not officially been on a development team since working on the TRS-80 Model 100,[54] but he wrote code that shipped with the company\\'s products as late as 1989.[55] Jerry Pournelle wrote in 1985 when Gates announced Microsoft Excel: \"Bill Gates likes the program, not because it\\'s going to make him a lot of money (although I\\'m sure it will do that), but because it\\'s a neat hack.\"[56] During the late 1990s, he was criticized for his business tactics, which were considered anti-competitive.'}, {'url': 'https://www.forbes.com/profile/bill-gates/', 'content': 'Bill Gates Bill Gates Bill Gates diversified his fortune from software firm Microsoft into dozens of holdings, including waste disposal firm Republic Services and tractor maker Deere & Co. Gates, a computer enthusiast from a young age, dropped out of Harvard to cofound Microsoft with Paul Allen (d. After Bill donated Microsoft shares worth billions to the trust that funds the Gates Foundation in 2022, his Microsoft stake is now less than 1%, Forbes estimates. Bill Gates Billionaire Bill Gates will release his fifth book, the first of three planned personal memoirs, later this year. ### Here Are The Other Billionaires Donating To The Same Pro-Kamala Harris Super PAC As Bill Gates'}]\u001b[0m\u001b[32;1m\u001b[1;3mIt seems that the search did not return a direct link to Bill Gates' LinkedIn profile. I will try again to find the specific LinkedIn page.  \n",
      "Action: Crawl Google for Linkedin profile page  \n",
      "\u001b[36;1m\u001b[1;3m[{'url': 'https://www.forbes.com/profile/bill-gates/', 'content': 'Bill Gates Bill Gates Bill Gates diversified his fortune from software firm Microsoft into dozens of holdings, including waste disposal firm Republic Services and tractor maker Deere & Co. Gates, a computer enthusiast from a young age, dropped out of Harvard to cofound Microsoft with Paul Allen (d. After Bill donated Microsoft shares worth billions to the trust that funds the Gates Foundation in 2022, his Microsoft stake is now less than 1%, Forbes estimates. Bill Gates Billionaire Bill Gates will release his fifth book, the first of three planned personal memoirs, later this year. ### Here Are The Other Billionaires Donating To The Same Pro-Kamala Harris Super PAC As Bill Gates'}, {'url': 'https://en.wikipedia.org/wiki/Bill_Gates', 'content': 'During Microsoft\\'s early years, Gates was an active software developer, particularly in the company\\'s programming language products, but his primary role in most of the company\\'s history was as a manager and executive. He has not officially been on a development team since working on the TRS-80 Model 100,[54] but he wrote code that shipped with the company\\'s products as late as 1989.[55] Jerry Pournelle wrote in 1985 when Gates announced Microsoft Excel: \"Bill Gates likes the program, not because it\\'s going to make him a lot of money (although I\\'m sure it will do that), but because it\\'s a neat hack.\"[56] During the late 1990s, he was criticized for his business tactics, which were considered anti-competitive.'}, {'url': 'https://www.bloomberg.com/billionaires/profiles/william-h-gates/', 'content': \"Bloomberg Billionaires Index - Bill Gates Bloomberg Bloomberg Markets Bloomberg Opinion Bloomberg Businessweek Bloomberg Markets Bloomberg Opinion Bloomberg Gates co-founded Microsoft, the world's biggest software maker. The majority of Gates's fortune is derived from Cascade Investment, a holding company that was created with the proceeds of Microsoft stock sales and dividends. Based on an analysis of Bloomberg data, Gates has received more than $60 billion in stock and dividends from Microsoft and other companies, including a $3.3 billion payout from Microsoft in 2004, which he donated to his philanthropic foundation. Six years later, after his Microsoft stake topped $100 billion, Gates stepped down as the company's chief executive and began focusing on philanthropic efforts through the Bill & Melinda Gates Foundation.\"}, {'url': 'https://www.linkedin.com/in/williamhgates', 'content': 'Bill Gates\\nChair, Gates Foundation and Founder, Breakthrough Energy\\nSeattle, United States\\n8 connections, 37082444 followers\\n\\n\\nAbout:\\nChair of the Gates Foundation. Founder of Breakthrough Energy. Co-founder of Microsoft. Voracious reader. Avid traveler. Active blogger.\\n\\n\\nExperience:\\nCo-chair at Gates Foundation (https://www.linkedin.com/company/gates-foundation)\\nJan 2000 - Present\\n\\n\\nEducation:\\nHarvard University\\nN/A\\nJan 1973 - Dec 1975\\nGrade: N/A\\nActivities and societies: N/A'}, {'url': 'https://www.instagram.com/thisisbillgates/?hl=en', 'content': \"Sharing things I'm learning through my foundation work and other interests.\"}]\u001b[0m\u001b[32;1m\u001b[1;3mI have found the LinkedIn profile for Bill Gates.  \n",
      "Final Answer: https://www.linkedin.com/in/williamhgates\u001b[0m\n",
      "\n",
      "\u001b[1m> Finished chain.\u001b[0m\n",
      "I can't access external sites, including LinkedIn, but I can provide information based on widely known facts about Bill Gates.\n",
      "\n",
      "### 1. Short Summary\n",
      "Bill Gates is an American business magnate, software developer, philanthropist, and author. He co-founded Microsoft Corporation in 1975, which became the world's largest personal-computer software company. Gates played a significant role in the growth of the software industry and is known for his contributions to technology and philanthropy through the Bill & Melinda Gates Foundation.\n",
      "\n",
      "### 2. Two Interesting Facts\n",
      "- **Philanthropy**: Gates has donated a significant portion of his wealth to various charitable causes through the Bill & Melinda Gates Foundation, focusing on global health, education, and poverty alleviation. He has pledged to give away at least half of his wealth during his lifetime.\n",
      "  \n",
      "- **Reading Habit**: Bill Gates is an avid reader and often shares book recommendations on his blog. He reportedly reads about 50 books a year, believing that reading is essential for personal growth and understanding complex issues.\n"
     ]
    }
   ],
   "source": [
    "get_info_of_a_person(\"Bill Gates microsoft\")"
   ]
  },
  {
   "cell_type": "code",
   "execution_count": null,
   "id": "27d420dd-5089-4e2a-a5e2-f37e5d48380b",
   "metadata": {},
   "outputs": [],
   "source": []
  }
 ],
 "metadata": {
  "kernelspec": {
   "display_name": "Python 3 (ipykernel)",
   "language": "python",
   "name": "python3"
  },
  "language_info": {
   "codemirror_mode": {
    "name": "ipython",
    "version": 3
   },
   "file_extension": ".py",
   "mimetype": "text/x-python",
   "name": "python",
   "nbconvert_exporter": "python",
   "pygments_lexer": "ipython3",
   "version": "3.10.11"
  }
 },
 "nbformat": 4,
 "nbformat_minor": 5
}
